{
 "cells": [
  {
   "cell_type": "markdown",
   "id": "65a1c724",
   "metadata": {},
   "source": [
    "# Entropy - Measuring Uncertainty\n",
    "\n",
    "YT Video - https://www.youtube.com/watch?v=YtebGVx-Fxw&list=PLblh5JKOoLUICTaGLRoHQDuF_7q2GfuJF&index=8\n",
    "\n",
    "Measures uncertainty or average surprise in a set of outcomes.\n",
    "\n",
    "When all outcomes are equally likely --> high entropy\n",
    "When one outcome dominates --> low entropy\n",
    "\n",
    "### Surprise\n",
    "\n",
    "Surprise = -log₂(p)"
   ]
  },
  {
   "cell_type": "code",
   "execution_count": 1,
   "id": "bd32efc9",
   "metadata": {},
   "outputs": [
    {
     "name": "stdout",
     "output_type": "stream",
     "text": [
      "Surprisal of event with p = 0.25: 2.0 bits\n"
     ]
    }
   ],
   "source": [
    "import numpy as np \n",
    "\n",
    "# Probability of an event\n",
    "p = 0.25\n",
    "\n",
    "# Calculate surprise\n",
    "surprise = -np.log2(p)\n",
    "print(\"Surprisal of event with p = 0.25:\", surprise, \"bits\")"
   ]
  },
  {
   "cell_type": "markdown",
   "id": "e3524b77",
   "metadata": {},
   "source": [
    "Lower Probability = Higher surprise\n",
    "\n",
    "### Entropy For Two Outcomes (Biased coin)\n",
    "\n",
    "H = -∑pᵢ log₂(pᵢ)"
   ]
  },
  {
   "cell_type": "code",
   "execution_count": 2,
   "id": "dd9f88e3",
   "metadata": {},
   "outputs": [
    {
     "name": "stdout",
     "output_type": "stream",
     "text": [
      "Entropy (biased coin): 0.8812908992306927 bits\n"
     ]
    }
   ],
   "source": [
    "# Define probabilities of heads and tails\n",
    "p = np.array([0.7, 0.3])\n",
    "\n",
    "# Calculate entropy\n",
    "entropy = -np.sum(p * np.log2(p))\n",
    "print(\"Entropy (biased coin):\", entropy, \"bits\")"
   ]
  },
  {
   "cell_type": "markdown",
   "id": "886eb15d",
   "metadata": {},
   "source": [
    "Fair coin (0.5 / 0.5) → entropy = 1.0\n",
    "\n",
    "Biased coin → lower entropy\n",
    "\n",
    "### Entropy of Uniform Distribution"
   ]
  },
  {
   "cell_type": "code",
   "execution_count": 3,
   "id": "6c4deb17",
   "metadata": {},
   "outputs": [
    {
     "name": "stdout",
     "output_type": "stream",
     "text": [
      "Entropy (uniform distribution): 2.0 bits\n"
     ]
    }
   ],
   "source": [
    "# Equal probability of 4 outcomes (4 sided die)\n",
    "p_uniform = np.array([0.25, 0.25, 0.25, 0.25])\n",
    "\n",
    "# Calculate entropy\n",
    "entropy_uniform = -np.sum(p_uniform * np.log2(p_uniform))\n",
    "print(\"Entropy (uniform distribution):\", entropy_uniform, \"bits\")"
   ]
  },
  {
   "cell_type": "markdown",
   "id": "5df3e8ae",
   "metadata": {},
   "source": [
    "More outcomes --> More entropy\n",
    "\n",
    "Max uncertainty when all outcomes are equally likely\n",
    "\n",
    "### Entropy vs Bias In Coin Flips\n",
    "\n",
    "Entropy is highest at p = 0.5\n",
    "\n",
    "Entropy is lowest when outcome is almost certain"
   ]
  }
 ],
 "metadata": {
  "kernelspec": {
   "display_name": ".venv",
   "language": "python",
   "name": "python3"
  },
  "language_info": {
   "codemirror_mode": {
    "name": "ipython",
    "version": 3
   },
   "file_extension": ".py",
   "mimetype": "text/x-python",
   "name": "python",
   "nbconvert_exporter": "python",
   "pygments_lexer": "ipython3",
   "version": "3.12.1"
  }
 },
 "nbformat": 4,
 "nbformat_minor": 5
}
