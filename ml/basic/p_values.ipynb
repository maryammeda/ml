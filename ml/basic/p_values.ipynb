{
 "cells": [
  {
   "cell_type": "markdown",
   "id": "0fecf408",
   "metadata": {},
   "source": [
    "# P-Values\n",
    "\n",
    "YT video 1 - https://www.youtube.com/watch?v=vemZtEM63GY\n",
    "\n",
    "YT video 2 - https://www.youtube.com/watch?v=JQc3yx0-Q9E\n",
    "\n",
    "### The Problem of Random Chance\n",
    "\n",
    "When comparing two things, like the effectiveness of Drug A versus Drug B, we can't draw a reliable conclusion from a very small test. Imagine we give Drug A to one person and they are cured, while another person takes Drug B and is not cured. Can we conclude that Dug A is better? Simply put, we **cannot**.\n",
    "\n",
    "The difference in outcome coul be due to a lot of weird, random things that have nothing to do with the drugs themselves. For example:\n",
    "* The person who took Drug B might have a rare allergy\n",
    "* The person who took Drug A might have been cured by the **placebo effect**\n",
    "* The person taking Drug B might have other health issues or be taking other medications that interfere.\n",
    "\n",
    "With such a small sample, any result is likely due to **random chance**, and we can't be confident in our conclusion. This means we need to test each drug on more than just one person.\n",
    "\n",
    "### The P-Value and Quantifying Confidence\n",
    "\n",
    "The P-value is a number between 0 and 1 that helps us quantify how confident we should be that the difference we see between two groups is real and not just a result of random chance.\n",
    "\n",
    "Let's redo the experiment, but this time with a lot more people. We test Two different set of results\n",
    "\n",
    "* **Scenario 1** (Obvious Difference):\n",
    "  * **Drug A**: 1,043 people were cured, and 3 were not (a 99.7% cure rate).\n",
    "  * **Drug B**: 2 people were cured, and 1,432 were not (a 0.1% cure rate).\n",
    "  In this case, the results are so dramatically different that it would seem unrealistic to suppose these results were just random chance. We are very confident that Drug A is better than Drug B. A statistical test on this data would produce a very small **p-value** (close to 0). The difference is real.\n",
    "* **Scenario 2** (Ambiguous Difference):\n",
    "  * **Drug A**: 73 people were cured, and 125 were not (a 37% cure rate).\n",
    "  * **Drug B**: 59 people were cured, and 131 were not (a 31% cure rate).\n",
    "  Here, Drug A still seems better, but the difference is much smaller. How confident can we be that this 6% difference is real and not just a fluke from this specific group of people? \n",
    "\n",
    "  This is where calculating a p-value becomes essential.\n",
    "\n",
    "We can simulate this \"ambiguous\" scenario in Python and use a statistical test to find the P-value. The video mentions using Fisher's Exact Test, which is perfect for this kind of \"cured\" vs. \"not cured\" data. "
   ]
  },
  {
   "cell_type": "code",
   "execution_count": 1,
   "id": "74d96778",
   "metadata": {},
   "outputs": [
    {
     "name": "stdout",
     "output_type": "stream",
     "text": [
      "P-value: 0.23978206828606125\n",
      "\n",
      "A p-value is a number between 0 and 1.\n",
      "The closer the p-value is to 0, the more confident we are that the drugs are truly different.\n",
      "This relatively large p-value (not close to 0) suggests we can't be very confident that Drug A is superior based on this data.\n"
     ]
    }
   ],
   "source": [
    "import numpy as np \n",
    "from scipy.stats import fisher_exact\n",
    "\n",
    "# Create a 2x2 table representing the data from Scenario 2\n",
    "experiment_data = np.array([[73, 125], [59, 131]])\n",
    "\n",
    "# Perform Fisher's Exact Test\n",
    "# The test returns two values, but we only need the p-value for now.\n",
    "odds_ratio, p_value = fisher_exact(experiment_data)\n",
    "\n",
    "print(f\"P-value: {p_value}\")\n",
    "\n",
    "print(\"\\nA p-value is a number between 0 and 1.\")\n",
    "print(\"The closer the p-value is to 0, the more confident we are that the drugs are truly different.\")\n",
    "print(\"This relatively large p-value (not close to 0) suggests we can't be very confident that Drug A is superior based on this data.\")"
   ]
  },
  {
   "cell_type": "markdown",
   "id": "0eb70618",
   "metadata": {},
   "source": [
    "### Hypothesis Testing and The Threshold\n",
    "\n",
    "To make a firm decision, we use a pre-defined **threshold** for our p-value, a process known as **Hypothesis Testing**.\n",
    "\n",
    "* **Hypothesis Testing**: The idea of trying to determine if our two drugs are the same or not.\n",
    "* **The Null Hypothesis**: This is the default assumption that the drugs are the same. Our goal is to see if we have enough evidence to prove this assumption wrong.\n",
    "* **The Threshold (alpha level)**: The most common threshold is **0.05**. This means we are willing to accept a 5% risk of being wrong.\n",
    "If **p-value < 0.05**, we **reject the Null Hypothesis**. We conclude that the drugs are different.\n",
    "* If **p-value ≥ 0.05**, we **fail to reject the Null Hypothesis**. This doesn't mean the drugs are the same; it just means we don't have enough evidence to say they are different.\n",
    "* False Positive: Getting a small p-value (e.g., < 0.05) when there is no real difference is called a False Positive. The 0.05 threshold means we accept that 5% of the time, our experiments will result in a False Positive."
   ]
  },
  {
   "cell_type": "code",
   "execution_count": 2,
   "id": "a3175e7f",
   "metadata": {},
   "outputs": [
    {
     "name": "stdout",
     "output_type": "stream",
     "text": [
      "The Null Hypothesis is that the drugs are the same.\n",
      "Our p-value is 0.24 and our threshold is 0.05.\n",
      "\n",
      "Result: We fail to reject the Null Hypothesis. We are not confident the drugs are different.\n"
     ]
    }
   ],
   "source": [
    "from scipy.stats import fisher_exact\n",
    "import numpy as np\n",
    "\n",
    "# Data from scenario 2\n",
    "experiment_data = np.array([[73, 125], [59, 131]])\n",
    "\n",
    "# Calculate the p-value\n",
    "odds_ratio, p_value = fisher_exact(experiment_data)\n",
    "\n",
    "# Set our threshold \n",
    "threshold = 0.05\n",
    "\n",
    "print(f\"The Null Hypothesis is that the drugs are the same.\")\n",
    "print(f\"Our p-value is {p_value:.2f} and our threshold is {threshold}.\")\n",
    "\n",
    "# Make a decision based on the threshold\n",
    "if p_value < threshold:\n",
    "  print(\"\\nResult: We reject the Null Hypothesis. The drugs are likely different.\")\n",
    "else:\n",
    "  print(\"\\nResult: We fail to reject the Null Hypothesis. We are not confident the drugs are different.\")"
   ]
  },
  {
   "cell_type": "markdown",
   "id": "455ed8cb",
   "metadata": {},
   "source": [
    "Since 0.24 is not less than 0.05, we are not confident that Drug A is different from Drug B.\n",
    "\n",
    "\n",
    "### P-Value Does NOT Measure the Size of the Difference\n",
    "\n",
    "A small p-value does not imply that the effect size (the actual difference between Drug A and Drug B) is large or meaningful. It only tells us how confident we are that some difference exists. You can have a very small p-value for a very tiny difference, especially if you have a huge number of people in your experiment.\n",
    "\n",
    "* In our \"ambiguous\" example, the difference in cure rates was 6% (37% vs 31%) and the p-value was large (0.24).\n",
    "* However, if we ran a much larger experiment where Drug A cured 5005 people and Drug B cured 4800, the cure rates might be very close (e.g., 34% vs 35%), but because the sample size is huge, the p-value could be very small (e.g., 0.04).\n",
    "\n",
    "A small p-value just means we are confident the results are not a random fluke. It does not tell us if the difference is big enough to matter in the real world."
   ]
  },
  {
   "cell_type": "code",
   "execution_count": null,
   "id": "8c25ad58",
   "metadata": {},
   "outputs": [
    {
     "name": "stdout",
     "output_type": "stream",
     "text": [
      "P-value from huge experiment: 0.045\n",
      "Result: P-value is smaller than 0.05. We are confident the drugs are different.\n",
      "\n",
      "IMPORTANT: Even though the p-value is small, the actual difference in cure rates (34% vs 35%) is tiny!\n",
      "A small p-value does not mean a large effect!\n"
     ]
    }
   ],
   "source": [
    "from scipy.stats import fisher_exact\n",
    "import numpy as np\n",
    "\n",
    "# New experiment with huge number of people\n",
    "# Drug A: 5005 Cured, 9868 Not Cured (34% cure rate)\n",
    "# Drug B: 4800 Cured, 9000 Not Cured (35% cure rate)\n",
    "big_experiment_data = np.array([[5005, 9868], [4800, 9000]])\n",
    "\n",
    "odds_ratio, p_value = fisher_exact(big_experiment_data)\n",
    "threshold = 0.05\n",
    "\n",
    "print(f\"P-value from huge experiment: {p_value:.3f}\")\n",
    "\n",
    "if p_value < threshold:\n",
    "  print(\"Result: P-value is smaller than 0.05. We are confident the drugs are different.\")\n",
    "else:\n",
    "  print(\"Result: P-value is larger than 0.05. We are not confident the drugs are different.\")\n",
    "\n",
    "print(\"\\nIMPORTANT: Even though the p-value is small, the actual difference in cure rates (34% vs 35%) is tiny\")\n",
    "print(\"A small p-value does not mean a large effect\")"
   ]
  },
  {
   "cell_type": "markdown",
   "id": "f0d691f8",
   "metadata": {},
   "source": [
    "This shows that even with a tiny 1% difference, the massive sample size gives us a p-value of 0.04, which is less than 0.05. We are confident the drugs are different, but the difference itself is not very large.\n"
   ]
  },
  {
   "cell_type": "markdown",
   "id": "644c80ec",
   "metadata": {},
   "source": [
    "### Calculating Probabilities of All Outcomes\n",
    "\n",
    "To evaluate if an observation is statistically rare, you must first know the probabilities of all possible outcomes.\n",
    "* For a fair coin flipped twice, there are 4 equally likely outcomes: HH, HT, TH, TT\n",
    "* The probability of an event is calculated as:\n",
    " * `(Number of ways for the event to happen) / (Total number of outcomes)`\n",
    " * **P(2 Heads)** = 1/4 = 0.25\n",
    " * **P(2 Heads)** = 1/4 = 0.25\n",
    " * **P(1 Head, 1Tail)** = 2/4 = 0.50\n",
    "\n",
    " This code stimulates 100,000 double coin flips to empirically demonstrate these probabilities"
   ]
  },
  {
   "cell_type": "code",
   "execution_count": 1,
   "id": "3ff455b3",
   "metadata": {},
   "outputs": [
    {
     "name": "stdout",
     "output_type": "stream",
     "text": [
      "Probabilities from simulation:\n",
      "HH: 0.249\n",
      "HT: 0.247\n",
      "TH: 0.251\n",
      "TT: 0.253\n"
     ]
    }
   ],
   "source": [
    "import random\n",
    "\n",
    "num_simulations = 100000\n",
    "outcomes = {\"HH\": 0, \"HT\": 0, \"TH\": 0, \"TT\": 0}\n",
    "\n",
    "for _ in range(num_simulations):\n",
    "    flip1 = random.choice([\"H\", \"T\"])\n",
    "    flip2 = random.choice([\"H\", \"T\"])\n",
    "    outcome = flip1 + flip2\n",
    "    outcomes[outcome] += 1\n",
    "\n",
    "# Print the simulated probabilities\n",
    "print(\"Probabilities from simulation:\")\n",
    "for outcome, count in outcomes.items():\n",
    "    print(f\"{outcome}: {count / num_simulations:.3f}\")  "
   ]
  },
  {
   "cell_type": "markdown",
   "id": "52ab511d",
   "metadata": {},
   "source": [
    "### Two sided P-values\n",
    "\n",
    "The **p-value** is the probability of obtaining your observed result, or something even more extreme, assuming the null hypothesis is true. A standard **two sided p-value** is calculated by summing three components.\n",
    "* **Probability of the observation itself** (e.g., p(HH) = 0.25)\n",
    "* **Probability of all other equally rare outcomes** (e.g., P(TT) = 0.25). We include these because multiple rare outcomes make any single one less special\n",
    "* **Probability of all rarer (more extreme) outcomes** (e.g., P(anything rarer) = 0 in this case)\n",
    "\n",
    "**Calculation**\n",
    "* `p-value for 2 Heads = P(HH) + P(TT) + P(rarer) = 0.25 + 0.25 + 0 = 0.5`\n",
    "* A result is **statistically significant** if its p-value is less than a threshold, typically 0.05.\n",
    "* Since 0.5 > 0.05, getting 2 heads is NOT statistically significant."
   ]
  },
  {
   "cell_type": "markdown",
   "id": "6914d9a3",
   "metadata": {},
   "source": [
    "### P-values with Continuous Distribution\n",
    "\n",
    "For continuous data like height, we can't list all outcomes. Instead, we use a **statistical distribution**, where the p-value is the **area under the curve** for extreme results\n",
    "* The p-value is the total probability of observing a value as far or farther from the mean as your measurement\n",
    "* **Example**: For a height distribution with an average of 155.7 cm, what is the p-value for measuring someone who is 142 cm tall?\n",
    " * Find the area of all values **les than or equal** to 142cm (e.g., 2.5%)\n",
    " * Find the area of all values that are equally extreme on the other side of the average (i.e., greater than or equal to 169 cm). (e.g., 2.5%)\n",
    " * Sum these areas: p-value = `0.025 + 0.025 = 0.05`"
   ]
  },
  {
   "cell_type": "code",
   "execution_count": null,
   "id": "9c79a79e",
   "metadata": {},
   "outputs": [
    {
     "name": "stdout",
     "output_type": "stream",
     "text": [
      "P-value for a height of 142 cm is: 0.050\n"
     ]
    },
    {
     "data": {
      "image/png": "[encoded data removed]",
      "text/plain": [
       "<Figure size 640x480 with 1 Axes>"
      ]
     },
     "metadata": {},
     "output_type": "display_data"
    }
   ],
   "source": [
    "import numpy as np\n",
    "from scipy.stats import norm\n",
    "import matplotlib.pyplot as plt\n",
    "\n",
    "# Distribution's parameters\n",
    "average_height = 155.7\n",
    "std_dev = 7 # Standard deviation determines the spread of the curve\n",
    "observed_height = 142\n",
    "\n",
    "#  Calculate the probability in the left tail\n",
    "prob_left_tail = norm.cdf(observed_height, loc=average_height, scale=std_dev)\n",
    "\n",
    "# Calculate the probability in the equally extreme right tail\n",
    "equivalent_height_on_right = average_height + (average_height - observed_height)\n",
    "prob_right_tail = 1 - norm.cdf(equivalent_height_on_right, loc=average_height, scale=std_dev)\n",
    "\n",
    "# The two-sided p-value is the sum of the tails\n",
    "p_value = prob_left_tail + prob_right_tail\n",
    "print(f\"P-value for a height of {observed_height} cm is: {p_value:.3f}\")\n",
    "\n",
    "# CURVE CODE\n",
    "# Create a range of x values (heights) for the plot\n",
    "x = np.linspace(average_height - 4*std_dev, average_height + 4*std_dev, 1000)\n",
    "# Calculate the y values (probability density) for the curve\n",
    "y = norm.pdf(x, loc=average_height, scale=std_dev)\n",
    "\n",
    "# Plot the main distribution curve\n",
    "plt.plot(x, y, label='Height Distribution')\n",
    "\n",
    "# Shade the area for the left tail (more extreme)\n",
    "x_fill_left = np.linspace(average_height - 4*std_dev, observed_height, 100)\n",
    "y_fill_left = norm.pdf(x_fill_left, loc=average_height, scale=std_dev)\n",
    "plt.fill_between(x_fill_left, y_fill_left, color='red', alpha=0.5, label=f'p-value area (left tail)')\n",
    "\n",
    "# Shade the area for the right tail (equally extreme)\n",
    "x_fill_right = np.linspace(equivalent_height_on_right, average_height + 4*std_dev, 100)\n",
    "y_fill_right = norm.pdf(x_fill_right, loc=average_height, scale=std_dev)\n",
    "plt.fill_between(x_fill_right, y_fill_right, color='red', alpha=0.5, label=f'p-value area (right tail)')\n",
    "\n",
    "# Add labels and title for clarity\n",
    "plt.title('P-Value on a Continuous Distribution')\n",
    "plt.xlabel('Height (cm)')\n",
    "plt.ylabel('Probability Density')\n",
    "plt.axvline(average_height, color='black', linestyle='--', label=f'Average = {average_height}')\n",
    "plt.legend()\n",
    "plt.grid(True)\n",
    "plt.show()"
   ]
  },
  {
   "cell_type": "markdown",
   "id": "05cce3d4",
   "metadata": {},
   "source": [
    "### One Sided P-values \n",
    "\n",
    "A **one-sided p-value** is used when you have a strong reason to believe a change can only happen in one specific direction.\n",
    "*   **How it works:** It only calculates the area in the tail that corresponds to the direction of interest. If a drug is expected to *shorten* recovery time, you only sum the probabilities of recovery times less than or equal to your observation.\n",
    "*   **The Danger:** This test is \"blind\" to effects in the opposite direction. If a drug is intended to help but actually *lengthens* recovery time, a one-sided test will fail to detect this significant negative result.\n",
    "*   **Conclusion:** One-sided p-values can be misleading and should be avoided unless used by experts with a clear, pre-stated justification."
   ]
  }
 ],
 "metadata": {
  "kernelspec": {
   "display_name": ".venv",
   "language": "python",
   "name": "python3"
  },
  "language_info": {
   "codemirror_mode": {
    "name": "ipython",
    "version": 3
   },
   "file_extension": ".py",
   "mimetype": "text/x-python",
   "name": "python",
   "nbconvert_exporter": "python",
   "pygments_lexer": "ipython3",
   "version": "3.12.1"
  }
 },
 "nbformat": 4,
 "nbformat_minor": 5
}
