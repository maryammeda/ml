{
 "cells": [
  {
   "cell_type": "markdown",
   "id": "09407e3f",
   "metadata": {},
   "source": [
    "# Mutual Information\n",
    "\n",
    "YT Video - https://www.youtube.com/watch?v=eJIp_mgVLwE&list=PLblh5JKOoLUICTaGLRoHQDuF_7q2GfuJF&index=8\n",
    "\n",
    "A measure of how much knowing one variable reduces uncertainty about another.\n",
    "\n",
    "MI = 0 when variables are independent\n",
    "\n",
    "The more one tells you about the other, the higher the MI\n",
    "\n",
    "### Formula - I(X,Y) = Σₓ₍ᵧ₎ p(x,y) log₂ [ p(x,y) / (p(x)p(y)) ]\n"
   ]
  },
  {
   "cell_type": "markdown",
   "id": "2a52614b",
   "metadata": {},
   "source": [
    "### Derivation Sketch\n",
    "\n",
    "Show that - I(X,Y) = H(X) + H(Y) – H(X, Y)\n"
   ]
  },
  {
   "cell_type": "code",
   "execution_count": 2,
   "id": "1e0f5165",
   "metadata": {},
   "outputs": [],
   "source": [
    "import numpy as np\n",
    "\n",
    "def mutual_info(counts):\n",
    "    # counts: 2D numpy array of joint counts\n",
    "    pxy = counts / counts.sum()\n",
    "    px = pxy.sum(axis=1)[:, None]      # column vector\n",
    "    py = pxy.sum(axis=0)[None, :]      # row vector\n",
    "    mask = pxy > 0\n",
    "    return np.sum(pxy[mask] * np.log2(pxy[mask] / (px @ py)[mask]))\n"
   ]
  },
  {
   "cell_type": "markdown",
   "id": "42cb2151",
   "metadata": {},
   "source": [
    "### Example"
   ]
  },
  {
   "cell_type": "code",
   "execution_count": 3,
   "id": "1d6716ad",
   "metadata": {},
   "outputs": [
    {
     "name": "stdout",
     "output_type": "stream",
     "text": [
      "Mutual information: 0.2564258916820028\n"
     ]
    }
   ],
   "source": [
    "counts = np.array([\n",
    "    [30, 10],\n",
    "    [10, 50]\n",
    "])\n",
    "\n",
    "print(\"Mutual information:\", mutual_info(counts))\n"
   ]
  },
  {
   "cell_type": "markdown",
   "id": "9fc8dfa6",
   "metadata": {},
   "source": [
    "### Feature Selection with Mutual Information"
   ]
  },
  {
   "cell_type": "code",
   "execution_count": 4,
   "id": "3abe6dc9",
   "metadata": {},
   "outputs": [
    {
     "name": "stdout",
     "output_type": "stream",
     "text": [
      "sepal length (cm): 0.5014\n",
      "sepal width (cm): 0.2415\n",
      "petal length (cm): 1.0024\n",
      "petal width (cm): 0.9915\n"
     ]
    }
   ],
   "source": [
    "from sklearn.feature_selection import mutual_info_classif\n",
    "from sklearn.datasets import load_iris\n",
    "\n",
    "# Load dataset\n",
    "iris = load_iris()\n",
    "X = iris.data        # Features\n",
    "y = iris.target      # Target labels\n",
    "\n",
    "# Compute MI between each feature and the class label\n",
    "mi_scores = mutual_info_classif(X, y, discrete_features=False)\n",
    "\n",
    "# Display scores\n",
    "for feature, score in zip(iris.feature_names, mi_scores):\n",
    "    print(f\"{feature}: {score:.4f}\")\n"
   ]
  },
  {
   "cell_type": "markdown",
   "id": "c8d80d2c",
   "metadata": {},
   "source": [
    "### Connection Between Surprise and Entropy\n",
    "\n",
    "Expected surprise --> Entropy\n",
    "\n",
    "Mutual Information is built on entropy.\n",
    "\n",
    "Entropy measures how surprising a variable is, on average:\n",
    "- H(X): Surprise of X\n",
    "- H(Y): Surprise of Y\n",
    "- H(X, Y): Surprise of the two together\n",
    "\n",
    "So mutual information is:\n",
    "How much total surprise is reduced when we know both variables, compared to each one alone:\n",
    "I(X; Y) = H(X) + H(Y) – H(X, Y)\n"
   ]
  },
  {
   "cell_type": "markdown",
   "id": "edb8d34d",
   "metadata": {},
   "source": [
    "### Mutual Information when Variables are Independent\n",
    "\n",
    "When variables are independent, mutual information = 0"
   ]
  },
  {
   "cell_type": "code",
   "execution_count": 5,
   "id": "0dc91673",
   "metadata": {},
   "outputs": [
    {
     "name": "stdout",
     "output_type": "stream",
     "text": [
      "MI for independent variables: 0.0\n"
     ]
    }
   ],
   "source": [
    "# Perfectly independent joint distribution\n",
    "indep_counts = np.array([\n",
    "    [25, 25],\n",
    "    [25, 25]\n",
    "])\n",
    "\n",
    "print(\"MI for independent variables:\", mutual_info(indep_counts))\n"
   ]
  },
  {
   "cell_type": "markdown",
   "id": "23c98892",
   "metadata": {},
   "source": [
    "### Mutual Information when Variables are Dependent\n",
    "\n",
    "When varibales are dependent, mutual information > 0"
   ]
  },
  {
   "cell_type": "code",
   "execution_count": 6,
   "id": "25686f74",
   "metadata": {},
   "outputs": [
    {
     "name": "stdout",
     "output_type": "stream",
     "text": [
      "MI for perfectly dependent variables: 1.0\n"
     ]
    }
   ],
   "source": [
    "# Perfectly dependent: X predicts Y\n",
    "dependent_counts = np.array([\n",
    "    [50, 0],\n",
    "    [0, 50]\n",
    "])\n",
    "\n",
    "print(\"MI for perfectly dependent variables:\", mutual_info(dependent_counts))\n"
   ]
  },
  {
   "cell_type": "markdown",
   "id": "642d1866",
   "metadata": {},
   "source": [
    "- Mutual Information (MI) tells us how much knowing one variable reduces uncertainty about another.\n",
    "- It’s built on entropy, which measures surprise.\n",
    "- MI = 0 → variables are completely independent\n",
    "- MI > 0 → knowing one tells us something about the other\n",
    "- Works for non-linear, non-numeric relationships\n",
    "- Common uses:\n",
    "    • Feature selection\n",
    "    • Dependency detection\n",
    "    • Evaluating clustering vs. ground truth\n"
   ]
  }
 ],
 "metadata": {
  "kernelspec": {
   "display_name": ".venv",
   "language": "python",
   "name": "python3"
  },
  "language_info": {
   "codemirror_mode": {
    "name": "ipython",
    "version": 3
   },
   "file_extension": ".py",
   "mimetype": "text/x-python",
   "name": "python",
   "nbconvert_exporter": "python",
   "pygments_lexer": "ipython3",
   "version": "3.12.1"
  }
 },
 "nbformat": 4,
 "nbformat_minor": 5
}
