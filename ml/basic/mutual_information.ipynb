{
 "cells": [
  {
   "cell_type": "markdown",
   "id": "aaf9fe00",
   "metadata": {},
   "source": [
    "# Mutual Information\n",
    "\n",
    "YT Video - https://www.youtube.com/watch?v=eJIp_mgVLwE&list=PLblh5JKOoLUICTaGLRoHQDuF_7q2GfuJF&index=8\n",
    "\n",
    "### Measuring Relationships in Mixed Data\n",
    "\n",
    "Before diving into Mutual Information, let's understand the problem it solves. We often want to know which variables in our data are most related to the thing we want to predict.\n",
    "\n",
    "* Feature selection is the process of identifying the most useful variables in a dataset to predict an outcome.\n",
    "* R-squared measures the relationship between two continuous variables but doesn't apply to categorical data. Mutual Information, however, can quantify relationships between any variable types, categorical or continuous.\n",
    "\n",
    "### Mutual Information\n",
    "A numeric value that measures the dependence or relationship between two variables. It tells you how much information you gain about one variable by observing another.\n",
    "\n",
    "* A mutual information score of 0 means the variables are completely independent. Knowing one tells you nothing about the other.\n",
    "* A higher mutual information score means the variables are more dependent. Knowing one tells you a lot about the other.\n",
    "* Crucially, it works with both discrete and continuous variables.\n",
    "\n",
    "**Joint Probability** - the probability of two or more things happening at the same time. In the video's example, its the probability that someone both **Likes Popcorn** AND **Loves Troll 2**\n",
    "* You canculate it directly from you data by counting how many times both conditions are met and dividing by the total number of data points.\n",
    "\n",
    " `p(A and B) = (Number of times A and B both happen) / (Total Observations)`\n"
   ]
  },
  {
   "cell_type": "code",
   "execution_count": 1,
   "id": "56ffeb85",
   "metadata": {},
   "outputs": [
    {
     "name": "stdout",
     "output_type": "stream",
     "text": [
      "Joint Probability p(Likes Popcorn=Yes, Loves Troll 2=Yes): 0.60\n"
     ]
    }
   ],
   "source": [
    "# Raw data as lists\n",
    "likes_popcorn = ['Yes', 'Yes', 'Yes', 'No', 'No']\n",
    "loves_troll_2 = ['Yes', 'Yes', 'Yes', 'No', 'Yes']\n",
    "\n",
    "# p(Likes_Popcorn=Yes AND Loves_Troll_2=Yes)\n",
    "# len counts the number of elements in the list\n",
    "total_observations = len(likes_popcorn)\n",
    "\n",
    "# sum counts the number of True values in the list\n",
    "both_happen = sum(1 for i in range(total_observations) if likes_popcorn[i] == 'Yes' and loves_troll_2[i] == 'Yes')\n",
    "\n",
    "# divide the number of times both conditions are true by the total number of observations\n",
    "joint_prob = both_happen / total_observations\n",
    "print(f\"Joint Probability p(Likes Popcorn=Yes, Loves Troll 2=Yes): {joint_prob:.2f}\")"
   ]
  },
  {
   "cell_type": "markdown",
   "id": "4f7da478",
   "metadata": {},
   "source": [
    "**Marginal Probability** - the probability of a single event occurring, regardless of the outcomes of other variables. For example, what is the overall probability that someone **Likes Popcorn**?\n",
    "* We calculate this by ignoring the other columns. We just count the total number of times our event of interest occurs and divide by the total number of observations. It's called \"marginal\" because, in a probability table, these totals appear in the margins.\n"
   ]
  },
  {
   "cell_type": "code",
   "execution_count": 2,
   "id": "51334752",
   "metadata": {},
   "outputs": [
    {
     "name": "stdout",
     "output_type": "stream",
     "text": [
      "Marginal Probability p(Likes_Popcorn=Yes): 0.60\n"
     ]
    }
   ],
   "source": [
    "likes_popcorn = ['Yes', 'Yes', 'Yes', 'No', 'No']\n",
    "total_observations = len(likes_popcorn)\n",
    "\n",
    "\n",
    "# p(Likes_Popcorn=Yes)\n",
    "likes_popcorn_count = likes_popcorn.count('Yes')\n",
    "marginal_prob = likes_popcorn_count / total_observations\n",
    "\n",
    "print(f\"Marginal Probability p(Likes_Popcorn=Yes): {marginal_prob:.2f}\")"
   ]
  },
  {
   "cell_type": "markdown",
   "id": "4e06bd8a",
   "metadata": {},
   "source": [
    "### **The Formula:**\n",
    "The equation for Mutual Information looks complex, but it's just a sum of the joint and marginal probabilities we just learned about.\n",
    "\n",
    "Mutual Information = Σ Σ *p(x, y)* log( *p(x, y)* / (*p(x)* *p(y)*) )"
   ]
  },
  {
   "cell_type": "code",
   "execution_count": 3,
   "id": "a0f4a89a",
   "metadata": {},
   "outputs": [
    {
     "name": "stdout",
     "output_type": "stream",
     "text": [
      "Calculated Mutual Information: 0.22\n"
     ]
    }
   ],
   "source": [
    "import math\n",
    "\n",
    "# Raw data from the video\n",
    "likes_popcorn = ['Yes', 'Yes', 'Yes', 'No', 'No']\n",
    "loves_troll_2 = ['Yes', 'Yes', 'Yes', 'No', 'Yes']\n",
    "total = len(likes_popcorn)\n",
    "\n",
    "mi = 0.0\n",
    "# Iterate over all possible combinations of values ('Yes'/'No' for both)\n",
    "for x_val in set(likes_popcorn): # ('Yes', 'No')\n",
    "    for y_val in set(loves_troll_2): # ('Yes', 'No')\n",
    "\n",
    "        # Calculate marginal probabilities\n",
    "        p_x = likes_popcorn.count(x_val) / total\n",
    "        p_y = loves_troll_2.count(y_val) / total\n",
    "\n",
    "        # Calculate joint probability\n",
    "        p_xy = sum(1 for i in range(total) if likes_popcorn[i] == x_val and loves_troll_2[i] == y_val) / total\n",
    "\n",
    "        # Add term to MI if joint probability is not zero\n",
    "        if p_xy > 0:\n",
    "            mi += p_xy * math.log(p_xy / (p_x * p_y))\n",
    "\n",
    "print(f\"Calculated Mutual Information: {mi:.2f}\")"
   ]
  },
  {
   "cell_type": "markdown",
   "id": "80855242",
   "metadata": {},
   "source": [
    "The formula works by going through every single combination of outcomes. For each combination, it compares the actual joint probability (p(x,y)) with the expected probability if the variables were independent (which is p(x) * p(y)).\n",
    "\n",
    "* If p(x,y) is much larger than p(x) * p(y), it means the events are happening together more often than by chance, suggesting a strong relationship.\n",
    "* If they are very close, it suggests the variables are independent."
   ]
  },
  {
   "cell_type": "code",
   "execution_count": null,
   "id": "65496748",
   "metadata": {},
   "outputs": [
    {
     "name": "stdout",
     "output_type": "stream",
     "text": [
      "--- Joint and Marginal Probability Table ---\n",
      "                   | Likes Popcorn: Yes | Likes Popcorn: No | p(Loves Troll 2)\n",
      "-------------------+--------------------+-------------------+-----------------\n",
      "Loves Troll 2: Yes | 0.60               | 0.20              | 0.80            \n",
      "Loves Troll 2: No  | 0.00               | 0.20              | 0.20            \n",
      "p(Likes Popcorn)   | 0.60               | 0.40              |                 \n",
      "\n",
      "Calculated Mutual Information: 0.22\n"
     ]
    }
   ],
   "source": [
    "import math\n",
    "\n",
    "\n",
    "def print_table(headers, rows):\n",
    "    # Determine column widths based on headers and data\n",
    "    widths = [len(h) for h in headers]\n",
    "    for row in rows:\n",
    "        for i, cell in enumerate(row):\n",
    "            widths[i] = max(widths[i], len(cell))\n",
    "\n",
    "    # Print header      \n",
    "    header_line = \" | \".join(f\"{h:<{w}}\" for h, w in zip(headers, widths))\n",
    "    separator = \"-+-\".join(\"-\" * w for w in widths)\n",
    "    print(header_line)\n",
    "    print(separator)\n",
    "    # Print rows\n",
    "    for row in rows:\n",
    "        row_line = \" | \".join(f\"{c:<{w}}\" for c, w in zip(row, widths))\n",
    "        print(row_line)\n",
    "\n",
    "likes_popcorn = ['Yes', 'Yes', 'Yes', 'No', 'No']\n",
    "loves_troll_2 = ['Yes', 'Yes', 'Yes', 'No', 'Yes']\n",
    "total = len(likes_popcorn)\n",
    "\n",
    "# Calculate all probabilities\n",
    "p_yes_yes = sum(1 for i in range(total) if likes_popcorn[i] == 'Yes' and loves_troll_2[i] == 'Yes') / total\n",
    "p_yes_no = sum(1 for i in range(total) if likes_popcorn[i] == 'Yes' and loves_troll_2[i] == 'No') / total\n",
    "p_no_yes = sum(1 for i in range(total) if likes_popcorn[i] == 'No' and loves_troll_2[i] == 'Yes') / total\n",
    "p_no_no = sum(1 for i in range(total) if likes_popcorn[i] == 'No' and loves_troll_2[i] == 'No') / total\n",
    "p_pop_yes, p_pop_no = likes_popcorn.count('Yes') / total, likes_popcorn.count('No') / total\n",
    "p_troll_yes, p_troll_no = loves_troll_2.count('Yes') / total, loves_troll_2.count('No') / total\n",
    "\n",
    "# Prepare data and print table\n",
    "print(\"--- Joint and Marginal Probability Table ---\")\n",
    "headers = [\"\", \"Likes Popcorn: Yes\", \"Likes Popcorn: No\", \"p(Loves Troll 2)\"]\n",
    "rows = [\n",
    "    [\"Loves Troll 2: Yes\", f\"{p_yes_yes:.2f}\", f\"{p_no_yes:.2f}\", f\"{p_troll_yes:.2f}\"],\n",
    "    [\"Loves Troll 2: No\", f\"{p_yes_no:.2f}\", f\"{p_no_no:.2f}\", f\"{p_troll_no:.2f}\"],\n",
    "    [\"p(Likes Popcorn)\", f\"{p_pop_yes:.2f}\", f\"{p_pop_no:.2f}\", \"\"]\n",
    "]\n",
    "print_table(headers, rows)\n",
    "\n",
    "# Calculate MI\n",
    "mi = 0.0\n",
    "probs = [[p_yes_yes, p_pop_yes, p_troll_yes], [p_yes_no, p_pop_yes, p_troll_no],\n",
    "         [p_no_yes, p_pop_no, p_troll_yes], [p_no_no, p_pop_no, p_troll_no]]\n",
    "for p_xy, p_x, p_y in probs:\n",
    "    if p_xy > 0:\n",
    "        mi += p_xy * math.log(p_xy / (p_x * p_y))\n",
    "\n",
    "print(f\"\\nCalculated Mutual Information: {mi:.2f}\")"
   ]
  }
 ],
 "metadata": {
  "kernelspec": {
   "display_name": ".venv",
   "language": "python",
   "name": "python3"
  },
  "language_info": {
   "codemirror_mode": {
    "name": "ipython",
    "version": 3
   },
   "file_extension": ".py",
   "mimetype": "text/x-python",
   "name": "python",
   "nbconvert_exporter": "python",
   "pygments_lexer": "ipython3",
   "version": "3.12.1"
  }
 },
 "nbformat": 4,
 "nbformat_minor": 5
}
