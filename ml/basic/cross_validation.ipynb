{
 "cells": [
  {
   "cell_type": "markdown",
   "id": "356a0ccc",
   "metadata": {},
   "source": [
    "# Cross validation\n",
    "\n",
    "YT video - https://www.youtube.com/watch?v=fSytzGwwBVw&list=PLblh5JKOoLUICTaGLRoHQDuF_7q2GfuJF&index=2\n",
    "\n",
    "Allows us to compare different machine learning methods and get a sense of how well they will work in practice\n",
    "\n",
    "Split dataset into 2 parts - \n",
    "1) Training the model\n",
    "2) Testing the model"
   ]
  },
  {
   "cell_type": "code",
   "execution_count": null,
   "id": "dc9797a8",
   "metadata": {},
   "outputs": [
    {
     "name": "stdout",
     "output_type": "stream",
     "text": [
      "Pictures shape: (25, 64)\n",
      "Numbers shape: (25,)\n",
      "First 5 digit images (pixel data): [[ 0.  0.  5. 13.  9.  1.  0.  0.  0.  0. 13. 15. 10. 15.  5.  0.  0.  3.\n",
      "  15.  2.  0. 11.  8.  0.  0.  4. 12.  0.  0.  8.  8.  0.  0.  5.  8.  0.\n",
      "   0.  9.  8.  0.  0.  4. 11.  0.  1. 12.  7.  0.  0.  2. 14.  5. 10. 12.\n",
      "   0.  0.  0.  0.  6. 13. 10.  0.  0.  0.]\n",
      " [ 0.  0.  0. 12. 13.  5.  0.  0.  0.  0.  0. 11. 16.  9.  0.  0.  0.  0.\n",
      "   3. 15. 16.  6.  0.  0.  0.  7. 15. 16. 16.  2.  0.  0.  0.  0.  1. 16.\n",
      "  16.  3.  0.  0.  0.  0.  1. 16. 16.  6.  0.  0.  0.  0.  1. 16. 16.  6.\n",
      "   0.  0.  0.  0.  0. 11. 16. 10.  0.  0.]\n",
      " [ 0.  0.  0.  4. 15. 12.  0.  0.  0.  0.  3. 16. 15. 14.  0.  0.  0.  0.\n",
      "   8. 13.  8. 16.  0.  0.  0.  0.  1.  6. 15. 11.  0.  0.  0.  1.  8. 13.\n",
      "  15.  1.  0.  0.  0.  9. 16. 16.  5.  0.  0.  0.  0.  3. 13. 16. 16. 11.\n",
      "   5.  0.  0.  0.  0.  3. 11. 16.  9.  0.]\n",
      " [ 0.  0.  7. 15. 13.  1.  0.  0.  0.  8. 13.  6. 15.  4.  0.  0.  0.  2.\n",
      "   1. 13. 13.  0.  0.  0.  0.  0.  2. 15. 11.  1.  0.  0.  0.  0.  0.  1.\n",
      "  12. 12.  1.  0.  0.  0.  0.  0.  1. 10.  8.  0.  0.  0.  8.  4.  5. 14.\n",
      "   9.  0.  0.  0.  7. 13. 13.  9.  0.  0.]\n",
      " [ 0.  0.  0.  1. 11.  0.  0.  0.  0.  0.  0.  7.  8.  0.  0.  0.  0.  0.\n",
      "   1. 13.  6.  2.  2.  0.  0.  0.  7. 15.  0.  9.  8.  0.  0.  5. 16. 10.\n",
      "   0. 16.  6.  0.  0.  4. 15. 16. 13. 16.  1.  0.  0.  0.  0.  3. 15. 10.\n",
      "   0.  0.  0.  0.  0.  2. 16.  4.  0.  0.]]\n",
      "First 5 actual numbers: [0 1 2 3 4]\n"
     ]
    }
   ],
   "source": [
    "from sklearn.datasets import load_digits\n",
    "\n",
    "#load built-in handwritten digits dataset from scikit-learn\n",
    "digit_data = load_digits()\n",
    "\n",
    "#Extract image data \n",
    "pictures = digit_data.data\n",
    "\n",
    "#Extract corresponding target labels\n",
    "numbers = digit_data.target\n",
    "\n",
    "#Take first 25 samples only for a smaller subset\n",
    "small_pictures = pictures[:25]\n",
    "small_numbers = numbers[:25]\n",
    "\n",
    "#Display the shape of the selected image data and labels\n",
    "print(\"Pictures shape:\", small_pictures.shape)\n",
    "print(\"Numbers shape:\", small_numbers.shape)\n",
    "\n",
    "#Print the pixel data for the first 5 images\n",
    "print(\"First 5 digit images (pixel data):\", small_pictures[:5])\n",
    "\n",
    "#Print the actual digits corresponding to the first 5 images\n",
    "print(\"First 5 actual numbers:\", small_numbers[:5])"
   ]
  },
  {
   "cell_type": "markdown",
   "id": "19b36288",
   "metadata": {},
   "source": [
    "### K-Fold Cross Validation\n",
    "Splits data into K parts to train and test the model K times, using a different part for testing each time."
   ]
  },
  {
   "cell_type": "code",
   "execution_count": 2,
   "id": "3b081b85",
   "metadata": {},
   "outputs": [
    {
     "name": "stdout",
     "output_type": "stream",
     "text": [
      "Fold 1: 0.300\n",
      "Fold 2: 0.200\n",
      "Fold 3: 0.500\n"
     ]
    }
   ],
   "source": [
    "from sklearn.model_selection import KFold\n",
    "from sklearn.datasets import load_digits\n",
    "from sklearn.neighbors import KNeighborsClassifier\n",
    "\n",
    "# Load digit images and labels\n",
    "X, y = load_digits(return_X_y=True)\n",
    "# Use only first 30 samples\n",
    "X, y = X[:30], y[:30]\n",
    "\n",
    "# Create 3-fold cross-validator\n",
    "cv = KFold(n_splits=3, shuffle=True, random_state=123)\n",
    "# Create KNN model\n",
    "model = KNeighborsClassifier()\n",
    "\n",
    "# Loop through each fold\n",
    "for fold, (train_idx, val_idx) in enumerate(cv.split(X)):\n",
    "    model.fit(X[train_idx], y[train_idx]) # Train model on training data\n",
    "    score = model.score(X[val_idx], y[val_idx]) # Test model on validation data\n",
    "    print(f\"Fold {fold+1}: {score:.3f}\") # Print accuracy score for this fold"
   ]
  },
  {
   "cell_type": "markdown",
   "id": "eb465f69",
   "metadata": {},
   "source": [
    "### Stratified K-Fold\n",
    "\n",
    "Splits data while preserving the original class proportions in each fold."
   ]
  },
  {
   "cell_type": "code",
   "execution_count": 1,
   "id": "c2d0b556",
   "metadata": {},
   "outputs": [
    {
     "name": "stdout",
     "output_type": "stream",
     "text": [
      "Fold 1:\n",
      "  Train labels: [0 0 0 1 1]\n",
      "  Val labels: [0 0 0 1 1]\n",
      "\n",
      "Fold 2:\n",
      "  Train labels: [0 0 0 1 1]\n",
      "  Val labels: [0 0 0 1 1]\n",
      "\n"
     ]
    }
   ],
   "source": [
    "from sklearn.model_selection import StratifiedKFold\n",
    "import numpy as np\n",
    "\n",
    "#Create a simple imbalanced dataset\n",
    "X = np.array([[1], [2], [3], [4], [5], [6], [7], [8], [9], [10]])  #Features\n",
    "y = np.array([0, 0, 0, 0, 0, 0, 1, 1, 1, 1])  # Labels: 6 class-0, 4 class-1\n",
    "\n",
    "#Create stratified K-Fold\n",
    "skf = StratifiedKFold(n_splits=2, shuffle=True, random_state=42)\n",
    "\n",
    "# Splitting process\n",
    "for fold, (train_idx, val_idx) in enumerate(skf.split(X, y)):\n",
    "    print(f\"Fold {fold + 1}:\")\n",
    "    print(f\"  Train labels: {y[train_idx]}\")  # Shows class distribution in training\n",
    "    print(f\"  Val labels: {y[val_idx]}\")      # Shows class distribution in validation\n",
    "    print()"
   ]
  },
  {
   "cell_type": "markdown",
   "id": "7d546b1a",
   "metadata": {},
   "source": [
    "### Cross-Validation Score Aggregation\n",
    "\n",
    "Computing mean and standard deviation from individual fold scores to get a statistical summary of model performance"
   ]
  },
  {
   "cell_type": "code",
   "execution_count": 3,
   "id": "51668bf5",
   "metadata": {},
   "outputs": [
    {
     "name": "stdout",
     "output_type": "stream",
     "text": [
      "CV Score: 0.950 ± 0.055\n"
     ]
    }
   ],
   "source": [
    "from sklearn.model_selection import cross_val_score  \n",
    "from sklearn.datasets import load_digits \n",
    "from sklearn.neighbors import KNeighborsClassifier  \n",
    "import numpy as np  \n",
    "\n",
    "X, y = load_digits(return_X_y=True) # Load digits dataset\n",
    "X, y = X[:100], y[:100] #Use first 100 samples\n",
    "\n",
    "model = KNeighborsClassifier()  # Create model\n",
    "\n",
    "scores = cross_val_score(model, X, y, cv=5)  # Get scores from 5-fold CV\n",
    "mean_score = np.mean(scores)  # Calculate average performance\n",
    "std_score = np.std(scores)  # Calculate performance consistency\n",
    "\n",
    "print(f\"CV Score: {mean_score:.3f} ± {std_score:.3f}\")  # Report results properly"
   ]
  },
  {
   "cell_type": "markdown",
   "id": "fb1c06a6",
   "metadata": {},
   "source": [
    "### Interpreting Standard Deviation\n",
    "\n",
    "Low std (< 0.02): Model is stable and reliable\n",
    "\n",
    "High std (> 0.10): Model is unstable, results less trustworthy"
   ]
  }
 ],
 "metadata": {
  "kernelspec": {
   "display_name": ".venv",
   "language": "python",
   "name": "python3"
  },
  "language_info": {
   "codemirror_mode": {
    "name": "ipython",
    "version": 3
   },
   "file_extension": ".py",
   "mimetype": "text/x-python",
   "name": "python",
   "nbconvert_exporter": "python",
   "pygments_lexer": "ipython3",
   "version": "3.12.1"
  }
 },
 "nbformat": 4,
 "nbformat_minor": 5
}
